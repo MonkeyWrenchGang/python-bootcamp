{
  "nbformat": 4,
  "nbformat_minor": 0,
  "metadata": {
    "colab": {
      "provenance": [],
      "authorship_tag": "ABX9TyMj8mUzajbV+1m0f3vMsy0+",
      "include_colab_link": true
    },
    "kernelspec": {
      "name": "python3",
      "display_name": "Python 3"
    },
    "language_info": {
      "name": "python"
    }
  },
  "cells": [
    {
      "cell_type": "markdown",
      "metadata": {
        "id": "view-in-github",
        "colab_type": "text"
      },
      "source": [
        "<a href=\"https://colab.research.google.com/github/MonkeyWrenchGang/python-bootcamp/blob/main/Week_4_Dealing_w_Nulls.ipynb\" target=\"_parent\"><img src=\"https://colab.research.google.com/assets/colab-badge.svg\" alt=\"Open In Colab\"/></a>"
      ]
    },
    {
      "cell_type": "markdown",
      "source": [
        "## Real World\n",
        "\n",
        "\n",
        "---\n",
        "\n",
        "\n",
        "The Ratings_and_Sentiments.csv dataset contains over 7,600 reviews of 66 coffee shops in Austin Texas, the data was initially scraped, munged and prepped by Rachel Downs (http://www.racheldowns.co) a Marketing and MIS student at UT Austin.\n",
        "\n",
        "Your challenge is to further prepare the data (easy), and create summaries and charts answering various questions about the data (also easy)"
      ],
      "metadata": {
        "id": "6YFiTZYfukfH"
      }
    },
    {
      "cell_type": "code",
      "execution_count": null,
      "metadata": {
        "id": "aXKV2azcFsh7"
      },
      "outputs": [],
      "source": [
        "import pandas as pd\n",
        "import matplotlib.pyplot as plt\n",
        "import seaborn as sns\n",
        "\n",
        "%matplotlib inline"
      ]
    },
    {
      "cell_type": "markdown",
      "source": [
        "## Import Yelp Data\n",
        "\n",
        "\n",
        "---\n",
        "\n"
      ],
      "metadata": {
        "id": "fidNSE57uzLg"
      }
    },
    {
      "cell_type": "code",
      "source": [
        "# URL of the Excel file on GitHub\n",
        "url = 'https://github.com/MonkeyWrenchGang/2023_BAN6005/raw/main/module_2/data/ratings_and_sentiments.xlsx'\n",
        "\n",
        "# Read the Excel file into a Pandas DataFrame\n",
        "yelp = pd.read_excel(url)\n",
        "yelp.head()"
      ],
      "metadata": {
        "id": "iQht0gbAu-ga"
      },
      "execution_count": null,
      "outputs": []
    },
    {
      "cell_type": "code",
      "source": [
        "yelp.info()"
      ],
      "metadata": {
        "id": "ygvyVotrvfr5"
      },
      "execution_count": null,
      "outputs": []
    },
    {
      "cell_type": "code",
      "source": [
        "# percent null\n",
        "yelp.isna().sum()/yelp.shape[0]"
      ],
      "metadata": {
        "id": "HnA1iH-avi7u"
      },
      "execution_count": null,
      "outputs": []
    },
    {
      "cell_type": "code",
      "source": [
        "yelp_clean = yelp.dropna(subset=['vibe_sent'])\n",
        "yelp_clean.info()"
      ],
      "metadata": {
        "id": "3T5lwEs_vqbc"
      },
      "execution_count": null,
      "outputs": []
    },
    {
      "cell_type": "markdown",
      "source": [
        "## Drop Columns\n",
        "\n",
        "\n",
        "---\n",
        "\n"
      ],
      "metadata": {
        "id": "4ZpLMLUVvzdR"
      }
    },
    {
      "cell_type": "code",
      "source": [
        "yelp.drop(columns=['seating_sent','hours_sent'])"
      ],
      "metadata": {
        "id": "AX96rHWWv4fs"
      },
      "execution_count": null,
      "outputs": []
    }
  ]
}